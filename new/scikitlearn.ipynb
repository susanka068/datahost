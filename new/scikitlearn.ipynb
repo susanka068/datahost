{
  "nbformat": 4,
  "nbformat_minor": 0,
  "metadata": {
    "colab": {
      "name": "pandas.ipynb",
      "provenance": [],
      "authorship_tag": "ABX9TyNeLeUQer5J4IlUrM8MKEGi",
      "include_colab_link": true
    },
    "kernelspec": {
      "name": "python3",
      "display_name": "Python 3"
    }
  },
  "cells": [
    {
      "cell_type": "markdown",
      "metadata": {
        "id": "view-in-github",
        "colab_type": "text"
      },
      "source": [
        "<a href=\"https://colab.research.google.com/github/susanka068/datahost/blob/master/new/scikitlearn.ipynb\" target=\"_parent\"><img src=\"https://colab.research.google.com/assets/colab-badge.svg\" alt=\"Open In Colab\"/></a>"
      ]
    },
    {
      "cell_type": "code",
      "metadata": {
        "id": "JzPvzMI8R_fL",
        "colab_type": "code",
        "colab": {}
      },
      "source": [
        "#import necessary modules\n",
        "import pandas as pd\n",
        "#store the url in a variable\n",
        "url = \"https://raw.githubusercontent.com/vkrit/data-science-class/master/WA_Fn-UseC_-Sales-Win-Loss.csv\""
      ],
      "execution_count": 0,
      "outputs": []
    },
    {
      "cell_type": "code",
      "metadata": {
        "id": "u5EBhxFmFUH-",
        "colab_type": "code",
        "colab": {}
      },
      "source": [
        "# Read in the data with `read_csv()`\n",
        "sales_data = pd.read_csv(url)"
      ],
      "execution_count": 0,
      "outputs": []
    },
    {
      "cell_type": "code",
      "metadata": {
        "id": "zaMlEozLT2pS",
        "colab_type": "code",
        "outputId": "6d0545e8-8884-41c6-cce2-3fbfdb9f595b",
        "colab": {
          "base_uri": "https://localhost:8080/",
          "height": 374
        }
      },
      "source": [
        "sales_data.head()"
      ],
      "execution_count": 3,
      "outputs": [
        {
          "output_type": "execute_result",
          "data": {
            "text/html": [
              "<div>\n",
              "<style scoped>\n",
              "    .dataframe tbody tr th:only-of-type {\n",
              "        vertical-align: middle;\n",
              "    }\n",
              "\n",
              "    .dataframe tbody tr th {\n",
              "        vertical-align: top;\n",
              "    }\n",
              "\n",
              "    .dataframe thead th {\n",
              "        text-align: right;\n",
              "    }\n",
              "</style>\n",
              "<table border=\"1\" class=\"dataframe\">\n",
              "  <thead>\n",
              "    <tr style=\"text-align: right;\">\n",
              "      <th></th>\n",
              "      <th>Opportunity Number</th>\n",
              "      <th>Supplies Subgroup</th>\n",
              "      <th>Supplies Group</th>\n",
              "      <th>Region</th>\n",
              "      <th>Route To Market</th>\n",
              "      <th>Elapsed Days In Sales Stage</th>\n",
              "      <th>Opportunity Result</th>\n",
              "      <th>Sales Stage Change Count</th>\n",
              "      <th>Total Days Identified Through Closing</th>\n",
              "      <th>Total Days Identified Through Qualified</th>\n",
              "      <th>Opportunity Amount USD</th>\n",
              "      <th>Client Size By Revenue</th>\n",
              "      <th>Client Size By Employee Count</th>\n",
              "      <th>Revenue From Client Past Two Years</th>\n",
              "      <th>Competitor Type</th>\n",
              "      <th>Ratio Days Identified To Total Days</th>\n",
              "      <th>Ratio Days Validated To Total Days</th>\n",
              "      <th>Ratio Days Qualified To Total Days</th>\n",
              "      <th>Deal Size Category</th>\n",
              "    </tr>\n",
              "  </thead>\n",
              "  <tbody>\n",
              "    <tr>\n",
              "      <th>0</th>\n",
              "      <td>1641984</td>\n",
              "      <td>Exterior Accessories</td>\n",
              "      <td>Car Accessories</td>\n",
              "      <td>Northwest</td>\n",
              "      <td>Fields Sales</td>\n",
              "      <td>76</td>\n",
              "      <td>Won</td>\n",
              "      <td>13</td>\n",
              "      <td>104</td>\n",
              "      <td>101</td>\n",
              "      <td>0</td>\n",
              "      <td>5</td>\n",
              "      <td>5</td>\n",
              "      <td>0</td>\n",
              "      <td>Unknown</td>\n",
              "      <td>0.69636</td>\n",
              "      <td>0.113985</td>\n",
              "      <td>0.154215</td>\n",
              "      <td>1</td>\n",
              "    </tr>\n",
              "    <tr>\n",
              "      <th>1</th>\n",
              "      <td>1658010</td>\n",
              "      <td>Exterior Accessories</td>\n",
              "      <td>Car Accessories</td>\n",
              "      <td>Pacific</td>\n",
              "      <td>Reseller</td>\n",
              "      <td>63</td>\n",
              "      <td>Loss</td>\n",
              "      <td>2</td>\n",
              "      <td>163</td>\n",
              "      <td>163</td>\n",
              "      <td>0</td>\n",
              "      <td>3</td>\n",
              "      <td>5</td>\n",
              "      <td>0</td>\n",
              "      <td>Unknown</td>\n",
              "      <td>0.00000</td>\n",
              "      <td>1.000000</td>\n",
              "      <td>0.000000</td>\n",
              "      <td>1</td>\n",
              "    </tr>\n",
              "    <tr>\n",
              "      <th>2</th>\n",
              "      <td>1674737</td>\n",
              "      <td>Motorcycle Parts</td>\n",
              "      <td>Performance &amp; Non-auto</td>\n",
              "      <td>Pacific</td>\n",
              "      <td>Reseller</td>\n",
              "      <td>24</td>\n",
              "      <td>Won</td>\n",
              "      <td>7</td>\n",
              "      <td>82</td>\n",
              "      <td>82</td>\n",
              "      <td>7750</td>\n",
              "      <td>1</td>\n",
              "      <td>1</td>\n",
              "      <td>0</td>\n",
              "      <td>Unknown</td>\n",
              "      <td>1.00000</td>\n",
              "      <td>0.000000</td>\n",
              "      <td>0.000000</td>\n",
              "      <td>1</td>\n",
              "    </tr>\n",
              "    <tr>\n",
              "      <th>3</th>\n",
              "      <td>1675224</td>\n",
              "      <td>Shelters &amp; RV</td>\n",
              "      <td>Performance &amp; Non-auto</td>\n",
              "      <td>Midwest</td>\n",
              "      <td>Reseller</td>\n",
              "      <td>16</td>\n",
              "      <td>Loss</td>\n",
              "      <td>5</td>\n",
              "      <td>124</td>\n",
              "      <td>124</td>\n",
              "      <td>0</td>\n",
              "      <td>1</td>\n",
              "      <td>1</td>\n",
              "      <td>0</td>\n",
              "      <td>Known</td>\n",
              "      <td>1.00000</td>\n",
              "      <td>0.000000</td>\n",
              "      <td>0.000000</td>\n",
              "      <td>1</td>\n",
              "    </tr>\n",
              "    <tr>\n",
              "      <th>4</th>\n",
              "      <td>1689785</td>\n",
              "      <td>Exterior Accessories</td>\n",
              "      <td>Car Accessories</td>\n",
              "      <td>Pacific</td>\n",
              "      <td>Reseller</td>\n",
              "      <td>69</td>\n",
              "      <td>Loss</td>\n",
              "      <td>11</td>\n",
              "      <td>91</td>\n",
              "      <td>13</td>\n",
              "      <td>69756</td>\n",
              "      <td>1</td>\n",
              "      <td>1</td>\n",
              "      <td>0</td>\n",
              "      <td>Unknown</td>\n",
              "      <td>0.00000</td>\n",
              "      <td>0.141125</td>\n",
              "      <td>0.000000</td>\n",
              "      <td>4</td>\n",
              "    </tr>\n",
              "  </tbody>\n",
              "</table>\n",
              "</div>"
            ],
            "text/plain": [
              "   Opportunity Number  ... Deal Size Category\n",
              "0             1641984  ...                  1\n",
              "1             1658010  ...                  1\n",
              "2             1674737  ...                  1\n",
              "3             1675224  ...                  1\n",
              "4             1689785  ...                  4\n",
              "\n",
              "[5 rows x 19 columns]"
            ]
          },
          "metadata": {
            "tags": []
          },
          "execution_count": 3
        }
      ]
    },
    {
      "cell_type": "code",
      "metadata": {
        "id": "5QYRMzC3Tuvz",
        "colab_type": "code",
        "outputId": "25e72c6f-fa56-4a23-908b-b8b77ada55e9",
        "colab": {
          "base_uri": "https://localhost:8080/",
          "height": 357
        }
      },
      "source": [
        "sales_data.dtypes"
      ],
      "execution_count": 4,
      "outputs": [
        {
          "output_type": "execute_result",
          "data": {
            "text/plain": [
              "Opportunity Number                           int64\n",
              "Supplies Subgroup                           object\n",
              "Supplies Group                              object\n",
              "Region                                      object\n",
              "Route To Market                             object\n",
              "Elapsed Days In Sales Stage                  int64\n",
              "Opportunity Result                          object\n",
              "Sales Stage Change Count                     int64\n",
              "Total Days Identified Through Closing        int64\n",
              "Total Days Identified Through Qualified      int64\n",
              "Opportunity Amount USD                       int64\n",
              "Client Size By Revenue                       int64\n",
              "Client Size By Employee Count                int64\n",
              "Revenue From Client Past Two Years           int64\n",
              "Competitor Type                             object\n",
              "Ratio Days Identified To Total Days        float64\n",
              "Ratio Days Validated To Total Days         float64\n",
              "Ratio Days Qualified To Total Days         float64\n",
              "Deal Size Category                           int64\n",
              "dtype: object"
            ]
          },
          "metadata": {
            "tags": []
          },
          "execution_count": 4
        }
      ]
    },
    {
      "cell_type": "code",
      "metadata": {
        "id": "PaczDWs9Cu7S",
        "colab_type": "code",
        "outputId": "703187e9-d081-440c-fd3f-5d58f9adcec5",
        "colab": {
          "base_uri": "https://localhost:8080/",
          "height": 527
        }
      },
      "source": [
        "import seaborn as sns\n",
        "# import the matplotlib module\n",
        "import matplotlib.pyplot as plt\n",
        "# set the background colour of the plot to white\n",
        "sns.set(style=\"whitegrid\", color_codes=True)\n",
        "# setting the plot size for all plots\n",
        "sns.set(rc={'figure.figsize':(11.7,8.27)})\n",
        "# create a countplot\n",
        "sns.countplot('Route To Market',data=sales_data,hue = 'Opportunity Result')\n",
        "# Remove the top and down margin\n",
        "sns.despine(offset=10, trim=True)"
      ],
      "execution_count": 5,
      "outputs": [
        {
          "output_type": "display_data",
          "data": {
            "image/png": "[encoded data removed]",
            "text/plain": [
              "<Figure size 842.4x595.44 with 1 Axes>"
            ]
          },
          "metadata": {
            "tags": []
          }
        }
      ]
    },
    {
      "cell_type": "code",
      "metadata": {
        "id": "MnxB9Ld_FvJN",
        "colab_type": "code",
        "colab": {}
      },
      "source": [
        "import seaborn as sns\n",
        "# import the matplotlib module\n",
        "import matplotlib.pyplot as plt\n",
        "# setting the plot size for all plots\n",
        "sns.set(rc={'figure.figsize':(16.7,13.27)})"
      ],
      "execution_count": 0,
      "outputs": []
    },
    {
      "cell_type": "code",
      "metadata": {
        "id": "cBPZz7JzF0HQ",
        "colab_type": "code",
        "colab": {
          "base_uri": "https://localhost:8080/",
          "height": 789
        },
        "outputId": "9092d387-602e-48b0-9d1b-f74650833d7f"
      },
      "source": [
        "sns.violinplot(x=\"Opportunity Result\",y=\"Client Size By Revenue\", hue=\"Opportunity Result\", data=sales_data);\n",
        "plt.show()"
      ],
      "execution_count": 7,
      "outputs": [
        {
          "output_type": "display_data",
          "data": {
            "image/png": "[encoded data removed]",
            "text/plain": [
              "<Figure size 1202.4x955.44 with 1 Axes>"
            ]
          },
          "metadata": {
            "tags": []
          }
        }
      ]
    },
    {
      "cell_type": "code",
      "metadata": {
        "id": "zRg9ylHzF783",
        "colab_type": "code",
        "colab": {
          "base_uri": "https://localhost:8080/",
          "height": 34
        },
        "outputId": "4f935d79-87a5-45cb-e4ec-644b2eea1ee7"
      },
      "source": [
        "#import the necessary module\n",
        "from sklearn import preprocessing\n",
        "# create the Labelencoder object\n",
        "le = preprocessing.LabelEncoder()\n",
        "#convert the categorical columns into numeric\n",
        "encoded_value = le.fit_transform([\"paris\", \"paris\", \"tokyo\", \"amsterdam\"])\n",
        "print(encoded_value)"
      ],
      "execution_count": 8,
      "outputs": [
        {
          "output_type": "stream",
          "text": [
            "[1 1 2 0]\n"
          ],
          "name": "stdout"
        }
      ]
    },
    {
      "cell_type": "code",
      "metadata": {
        "id": "UGqP6aH3GDcA",
        "colab_type": "code",
        "colab": {
          "base_uri": "https://localhost:8080/",
          "height": 204
        },
        "outputId": "122591b2-8beb-489a-e473-08729109176f"
      },
      "source": [
        "print(\"Supplies Subgroup' : \",sales_data['Supplies Subgroup'].unique())\n",
        "print(\"Region : \",sales_data['Region'].unique())\n",
        "print(\"Route To Market : \",sales_data['Route To Market'].unique())\n",
        "print(\"Opportunity Result : \",sales_data['Opportunity Result'].unique())\n",
        "print(\"Competitor Type : \",sales_data['Competitor Type'].unique())\n",
        "print(\"'Supplies Group : \",sales_data['Supplies Group'].unique())"
      ],
      "execution_count": 9,
      "outputs": [
        {
          "output_type": "stream",
          "text": [
            "Supplies Subgroup' :  ['Exterior Accessories' 'Motorcycle Parts' 'Shelters & RV'\n",
            " 'Garage & Car Care' 'Batteries & Accessories' 'Performance Parts'\n",
            " 'Towing & Hitches' 'Replacement Parts' 'Tires & Wheels'\n",
            " 'Interior Accessories' 'Car Electronics']\n",
            "Region :  ['Northwest' 'Pacific' 'Midwest' 'Southwest' 'Mid-Atlantic' 'Northeast'\n",
            " 'Southeast']\n",
            "Route To Market :  ['Fields Sales' 'Reseller' 'Other' 'Telesales' 'Telecoverage']\n",
            "Opportunity Result :  ['Won' 'Loss']\n",
            "Competitor Type :  ['Unknown' 'Known' 'None']\n",
            "'Supplies Group :  ['Car Accessories' 'Performance & Non-auto' 'Tires & Wheels'\n",
            " 'Car Electronics']\n"
          ],
          "name": "stdout"
        }
      ]
    },
    {
      "cell_type": "code",
      "metadata": {
        "id": "NGoqId4wGIm3",
        "colab_type": "code",
        "colab": {
          "base_uri": "https://localhost:8080/",
          "height": 272
        },
        "outputId": "a4fda2cd-e84a-426e-da1e-f3e2b750900e"
      },
      "source": [
        "#import the necessary module\n",
        "from sklearn import preprocessing\n",
        "# create the Labelencoder object\n",
        "le = preprocessing.LabelEncoder()\n",
        "#convert the categorical columns into numeric\n",
        "sales_data['Supplies Subgroup'] = le.fit_transform(sales_data['Supplies Subgroup'])\n",
        "sales_data['Region'] = le.fit_transform(sales_data['Region'])\n",
        "sales_data['Route To Market'] = le.fit_transform(sales_data['Route To Market'])\n",
        "sales_data['Opportunity Result'] = le.fit_transform(sales_data['Opportunity Result'])\n",
        "sales_data['Competitor Type'] = le.fit_transform(sales_data['Competitor Type'])\n",
        "sales_data['Supplies Group'] = le.fit_transform(sales_data['Supplies Group'])\n",
        "#display the initial records\n",
        "sales_data.head()"
      ],
      "execution_count": 10,
      "outputs": [
        {
          "output_type": "execute_result",
          "data": {
            "text/html": [
              "<div>\n",
              "<style scoped>\n",
              "    .dataframe tbody tr th:only-of-type {\n",
              "        vertical-align: middle;\n",
              "    }\n",
              "\n",
              "    .dataframe tbody tr th {\n",
              "        vertical-align: top;\n",
              "    }\n",
              "\n",
              "    .dataframe thead th {\n",
              "        text-align: right;\n",
              "    }\n",
              "</style>\n",
              "<table border=\"1\" class=\"dataframe\">\n",
              "  <thead>\n",
              "    <tr style=\"text-align: right;\">\n",
              "      <th></th>\n",
              "      <th>Opportunity Number</th>\n",
              "      <th>Supplies Subgroup</th>\n",
              "      <th>Supplies Group</th>\n",
              "      <th>Region</th>\n",
              "      <th>Route To Market</th>\n",
              "      <th>Elapsed Days In Sales Stage</th>\n",
              "      <th>Opportunity Result</th>\n",
              "      <th>Sales Stage Change Count</th>\n",
              "      <th>Total Days Identified Through Closing</th>\n",
              "      <th>Total Days Identified Through Qualified</th>\n",
              "      <th>Opportunity Amount USD</th>\n",
              "      <th>Client Size By Revenue</th>\n",
              "      <th>Client Size By Employee Count</th>\n",
              "      <th>Revenue From Client Past Two Years</th>\n",
              "      <th>Competitor Type</th>\n",
              "      <th>Ratio Days Identified To Total Days</th>\n",
              "      <th>Ratio Days Validated To Total Days</th>\n",
              "      <th>Ratio Days Qualified To Total Days</th>\n",
              "      <th>Deal Size Category</th>\n",
              "    </tr>\n",
              "  </thead>\n",
              "  <tbody>\n",
              "    <tr>\n",
              "      <th>0</th>\n",
              "      <td>1641984</td>\n",
              "      <td>2</td>\n",
              "      <td>0</td>\n",
              "      <td>3</td>\n",
              "      <td>0</td>\n",
              "      <td>76</td>\n",
              "      <td>1</td>\n",
              "      <td>13</td>\n",
              "      <td>104</td>\n",
              "      <td>101</td>\n",
              "      <td>0</td>\n",
              "      <td>5</td>\n",
              "      <td>5</td>\n",
              "      <td>0</td>\n",
              "      <td>2</td>\n",
              "      <td>0.69636</td>\n",
              "      <td>0.113985</td>\n",
              "      <td>0.154215</td>\n",
              "      <td>1</td>\n",
              "    </tr>\n",
              "    <tr>\n",
              "      <th>1</th>\n",
              "      <td>1658010</td>\n",
              "      <td>2</td>\n",
              "      <td>0</td>\n",
              "      <td>4</td>\n",
              "      <td>2</td>\n",
              "      <td>63</td>\n",
              "      <td>0</td>\n",
              "      <td>2</td>\n",
              "      <td>163</td>\n",
              "      <td>163</td>\n",
              "      <td>0</td>\n",
              "      <td>3</td>\n",
              "      <td>5</td>\n",
              "      <td>0</td>\n",
              "      <td>2</td>\n",
              "      <td>0.00000</td>\n",
              "      <td>1.000000</td>\n",
              "      <td>0.000000</td>\n",
              "      <td>1</td>\n",
              "    </tr>\n",
              "    <tr>\n",
              "      <th>2</th>\n",
              "      <td>1674737</td>\n",
              "      <td>5</td>\n",
              "      <td>2</td>\n",
              "      <td>4</td>\n",
              "      <td>2</td>\n",
              "      <td>24</td>\n",
              "      <td>1</td>\n",
              "      <td>7</td>\n",
              "      <td>82</td>\n",
              "      <td>82</td>\n",
              "      <td>7750</td>\n",
              "      <td>1</td>\n",
              "      <td>1</td>\n",
              "      <td>0</td>\n",
              "      <td>2</td>\n",
              "      <td>1.00000</td>\n",
              "      <td>0.000000</td>\n",
              "      <td>0.000000</td>\n",
              "      <td>1</td>\n",
              "    </tr>\n",
              "    <tr>\n",
              "      <th>3</th>\n",
              "      <td>1675224</td>\n",
              "      <td>8</td>\n",
              "      <td>2</td>\n",
              "      <td>1</td>\n",
              "      <td>2</td>\n",
              "      <td>16</td>\n",
              "      <td>0</td>\n",
              "      <td>5</td>\n",
              "      <td>124</td>\n",
              "      <td>124</td>\n",
              "      <td>0</td>\n",
              "      <td>1</td>\n",
              "      <td>1</td>\n",
              "      <td>0</td>\n",
              "      <td>0</td>\n",
              "      <td>1.00000</td>\n",
              "      <td>0.000000</td>\n",
              "      <td>0.000000</td>\n",
              "      <td>1</td>\n",
              "    </tr>\n",
              "    <tr>\n",
              "      <th>4</th>\n",
              "      <td>1689785</td>\n",
              "      <td>2</td>\n",
              "      <td>0</td>\n",
              "      <td>4</td>\n",
              "      <td>2</td>\n",
              "      <td>69</td>\n",
              "      <td>0</td>\n",
              "      <td>11</td>\n",
              "      <td>91</td>\n",
              "      <td>13</td>\n",
              "      <td>69756</td>\n",
              "      <td>1</td>\n",
              "      <td>1</td>\n",
              "      <td>0</td>\n",
              "      <td>2</td>\n",
              "      <td>0.00000</td>\n",
              "      <td>0.141125</td>\n",
              "      <td>0.000000</td>\n",
              "      <td>4</td>\n",
              "    </tr>\n",
              "  </tbody>\n",
              "</table>\n",
              "</div>"
            ],
            "text/plain": [
              "   Opportunity Number  ...  Deal Size Category\n",
              "0             1641984  ...                   1\n",
              "1             1658010  ...                   1\n",
              "2             1674737  ...                   1\n",
              "3             1675224  ...                   1\n",
              "4             1689785  ...                   4\n",
              "\n",
              "[5 rows x 19 columns]"
            ]
          },
          "metadata": {
            "tags": []
          },
          "execution_count": 10
        }
      ]
    },
    {
      "cell_type": "code",
      "metadata": {
        "id": "Rfx886wkGQNU",
        "colab_type": "code",
        "colab": {
          "base_uri": "https://localhost:8080/",
          "height": 162
        },
        "outputId": "9e549335-31fa-48c3-b9f3-16269594b0b0"
      },
      "source": [
        "# select columns other than 'Opportunity Number','Opportunity Result'\n",
        "cols = [col for col in sales_data.columns if col not in ['Opportunity Number','Opportunity Result']]\n",
        "# dropping the 'Opportunity Number'and 'Opportunity Result' columns\n",
        "data = sales_data[cols]\n",
        "#assigning the Oppurtunity Result column as target\n",
        "target = sales_data['Opportunity Result']\n",
        "data.head(n=2)"
      ],
      "execution_count": 12,
      "outputs": [
        {
          "output_type": "execute_result",
          "data": {
            "text/html": [
              "<div>\n",
              "<style scoped>\n",
              "    .dataframe tbody tr th:only-of-type {\n",
              "        vertical-align: middle;\n",
              "    }\n",
              "\n",
              "    .dataframe tbody tr th {\n",
              "        vertical-align: top;\n",
              "    }\n",
              "\n",
              "    .dataframe thead th {\n",
              "        text-align: right;\n",
              "    }\n",
              "</style>\n",
              "<table border=\"1\" class=\"dataframe\">\n",
              "  <thead>\n",
              "    <tr style=\"text-align: right;\">\n",
              "      <th></th>\n",
              "      <th>Supplies Subgroup</th>\n",
              "      <th>Supplies Group</th>\n",
              "      <th>Region</th>\n",
              "      <th>Route To Market</th>\n",
              "      <th>Elapsed Days In Sales Stage</th>\n",
              "      <th>Sales Stage Change Count</th>\n",
              "      <th>Total Days Identified Through Closing</th>\n",
              "      <th>Total Days Identified Through Qualified</th>\n",
              "      <th>Opportunity Amount USD</th>\n",
              "      <th>Client Size By Revenue</th>\n",
              "      <th>Client Size By Employee Count</th>\n",
              "      <th>Revenue From Client Past Two Years</th>\n",
              "      <th>Competitor Type</th>\n",
              "      <th>Ratio Days Identified To Total Days</th>\n",
              "      <th>Ratio Days Validated To Total Days</th>\n",
              "      <th>Ratio Days Qualified To Total Days</th>\n",
              "      <th>Deal Size Category</th>\n",
              "    </tr>\n",
              "  </thead>\n",
              "  <tbody>\n",
              "    <tr>\n",
              "      <th>0</th>\n",
              "      <td>2</td>\n",
              "      <td>0</td>\n",
              "      <td>3</td>\n",
              "      <td>0</td>\n",
              "      <td>76</td>\n",
              "      <td>13</td>\n",
              "      <td>104</td>\n",
              "      <td>101</td>\n",
              "      <td>0</td>\n",
              "      <td>5</td>\n",
              "      <td>5</td>\n",
              "      <td>0</td>\n",
              "      <td>2</td>\n",
              "      <td>0.69636</td>\n",
              "      <td>0.113985</td>\n",
              "      <td>0.154215</td>\n",
              "      <td>1</td>\n",
              "    </tr>\n",
              "    <tr>\n",
              "      <th>1</th>\n",
              "      <td>2</td>\n",
              "      <td>0</td>\n",
              "      <td>4</td>\n",
              "      <td>2</td>\n",
              "      <td>63</td>\n",
              "      <td>2</td>\n",
              "      <td>163</td>\n",
              "      <td>163</td>\n",
              "      <td>0</td>\n",
              "      <td>3</td>\n",
              "      <td>5</td>\n",
              "      <td>0</td>\n",
              "      <td>2</td>\n",
              "      <td>0.00000</td>\n",
              "      <td>1.000000</td>\n",
              "      <td>0.000000</td>\n",
              "      <td>1</td>\n",
              "    </tr>\n",
              "  </tbody>\n",
              "</table>\n",
              "</div>"
            ],
            "text/plain": [
              "   Supplies Subgroup  ...  Deal Size Category\n",
              "0                  2  ...                   1\n",
              "1                  2  ...                   1\n",
              "\n",
              "[2 rows x 17 columns]"
            ]
          },
          "metadata": {
            "tags": []
          },
          "execution_count": 12
        }
      ]
    },
    {
      "cell_type": "code",
      "metadata": {
        "id": "7VSli8TiGdTF",
        "colab_type": "code",
        "colab": {}
      },
      "source": [
        "#import the necessary module\n",
        "from sklearn.model_selection import train_test_split\n",
        "#split data set into train and test \n",
        "data_train, data_test, target_train, target_test = train_test_split(data,target, test_size = 0.30, random_state = 10)"
      ],
      "execution_count": 0,
      "outputs": []
    },
    {
      "cell_type": "code",
      "metadata": {
        "id": "g4OrE5DyI8mm",
        "colab_type": "code",
        "colab": {
          "base_uri": "https://localhost:8080/",
          "height": 34
        },
        "outputId": "4791fa12-d244-45c1-dca6-f00b9fd3298d"
      },
      "source": [
        "# import the necessary module\n",
        "from sklearn.naive_bayes import GaussianNB\n",
        "from sklearn.metrics import accuracy_score\n",
        "#create an object of the type GaussianNB\n",
        "gnb = GaussianNB()\n",
        "#train the algorithm on training data and predict using the testing data\n",
        "pred = gnb.fit(data_train, target_train).predict(data_test)\n",
        "#print(pred.tolist())\n",
        "#print the accuracy score of the model\n",
        "print(\"Naive-Bayes accuracy : \",accuracy_score(target_test, pred, normalize = True))"
      ],
      "execution_count": 16,
      "outputs": [
        {
          "output_type": "stream",
          "text": [
            "Naive-Bayes accuracy :  0.7590567327409433\n"
          ],
          "name": "stdout"
        }
      ]
    }
  ]
}