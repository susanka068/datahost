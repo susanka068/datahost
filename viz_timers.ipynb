{
  "nbformat": 4,
  "nbformat_minor": 0,
  "metadata": {
    "kernelspec": {
      "display_name": "Python 3",
      "language": "python",
      "name": "python3"
    },
    "language_info": {
      "codemirror_mode": {
        "name": "ipython",
        "version": 3
      },
      "file_extension": ".py",
      "mimetype": "text/x-python",
      "name": "python",
      "nbconvert_exporter": "python",
      "pygments_lexer": "ipython3",
      "version": "3.7.3"
    },
    "colab": {
      "name": "viz_timers.ipynb",
      "provenance": [],
      "include_colab_link": true
    }
  },
  "cells": [
    {
      "cell_type": "markdown",
      "metadata": {
        "id": "view-in-github",
        "colab_type": "text"
      },
      "source": [
        "<a href=\"https://colab.research.google.com/github/susanka068/datahost/blob/master/viz_timers.ipynb\" target=\"_parent\"><img src=\"https://colab.research.google.com/assets/colab-badge.svg\" alt=\"Open In Colab\"/></a>"
      ]
    },
    {
      "cell_type": "code",
      "metadata": {
        "id": "ChZyyJqqoIpl",
        "colab_type": "code",
        "colab": {
          "base_uri": "https://localhost:8080/",
          "height": 85
        },
        "outputId": "6c5fe5e5-2979-4d95-b568-af0aa742fe92"
      },
      "source": [
        "!pip install fury"
      ],
      "execution_count": 1,
      "outputs": [
        {
          "output_type": "stream",
          "text": [
            "Requirement already satisfied: fury in /usr/local/lib/python3.6/dist-packages (0.4.0)\n",
            "Requirement already satisfied: scipy>=0.9 in /usr/local/lib/python3.6/dist-packages (from fury) (1.4.1)\n",
            "Requirement already satisfied: numpy>=1.7.1 in /usr/local/lib/python3.6/dist-packages (from fury) (1.17.5)\n",
            "Requirement already satisfied: vtk>=8.1.0 in /usr/local/lib/python3.6/dist-packages (from fury) (8.1.2)\n"
          ],
          "name": "stdout"
        }
      ]
    },
    {
      "cell_type": "code",
      "metadata": {
        "id": "V_P1fiqAsXsS",
        "colab_type": "code",
        "colab": {}
      },
      "source": [
        "%matplotlib inline"
      ],
      "execution_count": 0,
      "outputs": []
    },
    {
      "cell_type": "markdown",
      "metadata": {
        "id": "ihJSSO1foIp-",
        "colab_type": "text"
      },
      "source": [
        "\n",
        "# Using a timer\n",
        "\n",
        "\n",
        "This example shows how to create a simple animation using a timer callback.\n",
        "\n",
        "We will use a sphere actor that generates many spheres of different colors,\n",
        "radii and opacity. Then we will animate this actor by rotating and changing\n",
        "global opacity levels from inside a user defined callback.\n",
        "\n",
        "The timer will call this user defined callback every 200 milliseconds. The\n",
        "application will exit after the callback has been called 100 times.\n"
      ]
    },
    {
      "cell_type": "code",
      "metadata": {
        "id": "TlsorZ0joIqE",
        "colab_type": "code",
        "colab": {}
      },
      "source": [
        "import numpy as np\n",
        "from fury import window, actor, ui\n",
        "import itertools\n",
        "\n",
        "xyz = 10 * np.random.rand(100, 3)\n",
        "colors = np.random.rand(100, 4)\n",
        "radii = np.random.rand(100) + 0.5\n",
        "\n",
        "scene = window.Scene()\n",
        "\n",
        "sphere_actor = actor.sphere(centers=xyz,\n",
        "                            colors=colors,\n",
        "                            radii=radii)\n",
        "\n",
        "scene.add(sphere_actor)\n",
        "\n",
        "showm = window.ShowManager(scene,\n",
        "                           size=(900, 768), reset_camera=False,\n",
        "                           order_transparent=True)\n",
        "\n",
        "showm.initialize()\n",
        "\n",
        "tb = ui.TextBlock2D(bold=True)\n",
        "\n",
        "# use itertools to avoid global variables\n",
        "counter = itertools.count()\n",
        "\n",
        "\n",
        "def timer_callback(_obj, _event):\n",
        "    cnt = next(counter)\n",
        "    tb.message = \"Let's count up to 100 and exit :\" + str(cnt)\n",
        "    showm.scene.azimuth(0.05 * cnt)\n",
        "    sphere_actor.GetProperty().SetOpacity(cnt/100.)\n",
        "    showm.render()\n",
        "    if cnt == 100:\n",
        "        showm.exit()\n",
        "\n",
        "\n",
        "scene.add(tb)\n",
        "\n",
        "# Run every 200 milliseconds\n",
        "showm.add_timer_callback(True, 200, timer_callback)\n",
        "\n",
        "showm.start()\n",
        "\n",
        "window.record(showm.scene, size=(900, 768), out_path=\"viz_timer.png\")"
      ],
      "execution_count": 0,
      "outputs": []
    }
  ]
}